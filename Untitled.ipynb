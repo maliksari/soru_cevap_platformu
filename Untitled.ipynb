{
 "cells": [
  {
   "cell_type": "code",
   "execution_count": 1,
   "metadata": {},
   "outputs": [],
   "source": [
    "from sqlalchemy import create_engine\n",
    "import pymysql\n",
    "import pandas as pd\n",
    "from leven import benzer\n",
    "\n",
    "db_connection_str = 'mysql+pymysql://root:@localhost/chatbot'\n",
    "db_connection = create_engine(db_connection_str)\n",
    "\n",
    "df = pd.read_sql('SELECT * FROM soru_cevap', con=db_connection)"
   ]
  },
  {
   "cell_type": "code",
   "execution_count": 5,
   "metadata": {},
   "outputs": [],
   "source": [
    "df = df.drop([\"id\"],axis=1)"
   ]
  },
  {
   "cell_type": "code",
   "execution_count": 6,
   "metadata": {},
   "outputs": [
    {
     "data": {
      "text/html": [
       "<div>\n",
       "<style scoped>\n",
       "    .dataframe tbody tr th:only-of-type {\n",
       "        vertical-align: middle;\n",
       "    }\n",
       "\n",
       "    .dataframe tbody tr th {\n",
       "        vertical-align: top;\n",
       "    }\n",
       "\n",
       "    .dataframe thead th {\n",
       "        text-align: right;\n",
       "    }\n",
       "</style>\n",
       "<table border=\"1\" class=\"dataframe\">\n",
       "  <thead>\n",
       "    <tr style=\"text-align: right;\">\n",
       "      <th></th>\n",
       "      <th>soru</th>\n",
       "      <th>cevap</th>\n",
       "    </tr>\n",
       "  </thead>\n",
       "  <tbody>\n",
       "    <tr>\n",
       "      <td>0</td>\n",
       "      <td>Naive Bayes algoritmasının avantajı nedir ?</td>\n",
       "      <td>Naive Bayes algorimasının avantajı küçük bir v...</td>\n",
       "    </tr>\n",
       "    <tr>\n",
       "      <td>1</td>\n",
       "      <td>Genetik programlama nedir?</td>\n",
       "      <td>Genetik algoritmalarının alt kolu olarak düşün...</td>\n",
       "    </tr>\n",
       "    <tr>\n",
       "      <td>2</td>\n",
       "      <td>Makine öğrenmesinde model seçimi nedir?</td>\n",
       "      <td>Makine öğrenmesinde doğru model seçimine ihtiy...</td>\n",
       "    </tr>\n",
       "    <tr>\n",
       "      <td>3</td>\n",
       "      <td>Veri madenciliği nedir?</td>\n",
       "      <td>Veri madenciliği, büyük ölçekli veriler arasın...</td>\n",
       "    </tr>\n",
       "  </tbody>\n",
       "</table>\n",
       "</div>"
      ],
      "text/plain": [
       "                                          soru  \\\n",
       "0  Naive Bayes algoritmasının avantajı nedir ?   \n",
       "1                   Genetik programlama nedir?   \n",
       "2      Makine öğrenmesinde model seçimi nedir?   \n",
       "3                      Veri madenciliği nedir?   \n",
       "\n",
       "                                               cevap  \n",
       "0  Naive Bayes algorimasının avantajı küçük bir v...  \n",
       "1  Genetik algoritmalarının alt kolu olarak düşün...  \n",
       "2  Makine öğrenmesinde doğru model seçimine ihtiy...  \n",
       "3  Veri madenciliği, büyük ölçekli veriler arasın...  "
      ]
     },
     "execution_count": 6,
     "metadata": {},
     "output_type": "execute_result"
    }
   ],
   "source": [
    "df"
   ]
  },
  {
   "cell_type": "code",
   "execution_count": 24,
   "metadata": {},
   "outputs": [
    {
     "name": "stdout",
     "output_type": "stream",
     "text": [
      "1.0\n",
      "Veri madenciliği, büyük ölçekli veriler arasından faydalı bilgiye ulaşma, bilgiyi madenleme işidir. Büyük veri yığınları içerisinden gelecekle ilgili tahminde bulunabilmemizi sağlayabilecek bağıntıların bilgisayar programı kullanarak aranması olarak da tanımlanabilir.\n"
     ]
    }
   ],
   "source": [
    "b = \"veri madenciliği nedir?\"\n",
    "soru = df[\"soru\"]\n",
    "cevap = df[\"cevap\"]\n",
    "for i in df.index:\n",
    "    x = benzer(soru.iloc[i].lower(),b.lower(),ratio_calc=True)\n",
    "    if( x >= 0.80):\n",
    "        print(x)\n",
    "        print(cevap.iloc[i])\n",
    "      "
   ]
  },
  {
   "cell_type": "code",
   "execution_count": null,
   "metadata": {},
   "outputs": [],
   "source": []
  }
 ],
 "metadata": {
  "kernelspec": {
   "display_name": "Python 3",
   "language": "python",
   "name": "python3"
  },
  "language_info": {
   "codemirror_mode": {
    "name": "ipython",
    "version": 3
   },
   "file_extension": ".py",
   "mimetype": "text/x-python",
   "name": "python",
   "nbconvert_exporter": "python",
   "pygments_lexer": "ipython3",
   "version": "3.7.4"
  }
 },
 "nbformat": 4,
 "nbformat_minor": 2
}
